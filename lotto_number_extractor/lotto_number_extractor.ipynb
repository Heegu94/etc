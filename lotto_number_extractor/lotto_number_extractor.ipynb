{
 "cells": [
  {
   "cell_type": "code",
   "execution_count": 253,
   "metadata": {},
   "outputs": [],
   "source": [
    "import numpy as np\n",
    "from itertools import *\n",
    "import random"
   ]
  },
  {
   "cell_type": "code",
   "execution_count": 254,
   "metadata": {},
   "outputs": [],
   "source": [
    "# 번호 뽑힌 비율 weight 추출\n",
    "def each_percentages(num_of_pick):\n",
    "    sum_of_list = sum(num_of_pick)\n",
    "    percentages=[n/sum_of_list for n in num_of_pick]\n",
    "    return percentages\n",
    "\n",
    "# METHOD 1\n",
    "## 그냥 6개 뽑기 \n",
    "def method1(percentage= [1./45 for a in range(45)]):\n",
    "    return sorted(np.random.choice(np.arange(1, 46), size=6, replace=False, p = percentage ))\n",
    "\n",
    "# METHOD 2\n",
    "## 같은 색에서 3개이상 나오지않게 6개 숫자 추출\n",
    "def method2(percentage=None):\n",
    "    zero  = np.arange(1, 11)\n",
    "    ten   = np.arange(11, 21)\n",
    "    twenty= np.arange(21, 31)\n",
    "    thirty= np.arange(31, 41)\n",
    "    forty = np.arange(41, 46)\n",
    "\n",
    "    lotto = np.array([zero, ten, twenty, thirty, forty])\n",
    "\n",
    "    combi = [0,0,0,1,1,1,1,1,1,2,2]\n",
    "    combination = list(permutations(combi, 5))\n",
    "    combi_list= []\n",
    "    for nums in combination:\n",
    "        if sum(nums) == 6:\n",
    "            combi_list.append(nums)\n",
    "\n",
    "    eachnums = random.choice(combi_list)\n",
    "    \n",
    "    lotto_paper = []\n",
    "    if percentage == None:    \n",
    "        for idx, n in enumerate(eachnums):\n",
    "            pickednums = np.random.choice(lotto[idx], size=n, replace=False, p=percentage)\n",
    "            if len(pickednums)>1:\n",
    "                for k in pickednums:\n",
    "                    lotto_paper.append(k)\n",
    "            elif len(pickednums)==0:pass\n",
    "            else:\n",
    "                lotto_paper.append(pickednums[0])\n",
    "    else:\n",
    "        idx = 0\n",
    "        for n, percent in zip(eachnums, percentage):\n",
    "            mul_factor =(1.0/sum(percent))\n",
    "            mul_percent = [pe*mul_factor for pe in percent]\n",
    "            pickednums = np.random.choice(lotto[idx], size=n, replace=False, p=mul_percent)\n",
    "            if len(pickednums)>1:\n",
    "                for k in pickednums:\n",
    "                    lotto_paper.append(k)\n",
    "            elif len(pickednums)==0:pass\n",
    "            else:\n",
    "                lotto_paper.append(pickednums[0])\n",
    "            idx +=1\n",
    "    return sorted(lotto_paper)\n",
    "\n",
    "# METHOD 2\n",
    "## 같은 색에서 3개이상 나오지않게 6개 숫자 추출\n",
    "\n",
    "def method3(num_of_pick):\n",
    "    percentages = each_percentages(num_of_pick)\n",
    "    lotto_nums = method1(percentages)\n",
    "    return lotto_nums\n",
    "\n",
    "def method4(num_of_pick=[1/45 for i in range(45)]):\n",
    "    percentages = each_percentages(num_of_pick)\n",
    "    splited_percentages = [percentages[(10*idx):(10*idx)+split] for idx, split in enumerate([10,10,10,10,5])]\n",
    "    lotto_nums = method2(splited_percentages)\n",
    "    return lotto_nums"
   ]
  },
  {
   "cell_type": "code",
   "execution_count": 256,
   "metadata": {},
   "outputs": [
    {
     "name": "stdout",
     "output_type": "stream",
     "text": [
      "[1, 3, 23, 28, 35, 45]\n",
      "[2, 19, 28, 34, 41, 45]\n",
      "[9, 16, 31, 33, 43, 44]\n",
      "[12, 25, 34, 35, 42, 44]\n",
      "[11, 17, 29, 30, 37, 43]\n"
     ]
    },
    {
     "name": "stderr",
     "output_type": "stream",
     "text": [
      "/home/user/anaconda3/envs/tensorflow2/lib/python3.6/site-packages/ipykernel_launcher.py:21: VisibleDeprecationWarning: Creating an ndarray from ragged nested sequences (which is a list-or-tuple of lists-or-tuples-or ndarrays with different lengths or shapes) is deprecated. If you meant to do this, you must specify 'dtype=object' when creating the ndarray\n"
     ]
    }
   ],
   "source": [
    "# 그냥 무작위 6개 중복 x\n",
    "\n",
    "num_of_pick=[174,163,161,168,152,157,158,154,133,164,161,170,172,165,159,160,173,170,153,167,160,131,141,\n",
    "             163,150,164,174,144,142,151,160,142,169,177,156,156,163,163,168,163,142,157,180,158,160]\n",
    "\n",
    "print(method1())\n",
    "print(method2())\n",
    "print(method3(num_of_pick))\n",
    "print(method4(num_of_pick))\n",
    "print(method4(num_of_pick))"
   ]
  },
  {
   "cell_type": "code",
   "execution_count": null,
   "metadata": {},
   "outputs": [],
   "source": []
  }
 ],
 "metadata": {
  "kernelspec": {
   "display_name": "Python [conda env:tensorflow2]",
   "language": "python",
   "name": "conda-env-tensorflow2-py"
  },
  "language_info": {
   "codemirror_mode": {
    "name": "ipython",
    "version": 3
   },
   "file_extension": ".py",
   "mimetype": "text/x-python",
   "name": "python",
   "nbconvert_exporter": "python",
   "pygments_lexer": "ipython3",
   "version": "3.6.15"
  }
 },
 "nbformat": 4,
 "nbformat_minor": 4
}
